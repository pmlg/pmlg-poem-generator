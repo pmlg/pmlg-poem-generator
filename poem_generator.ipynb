{
 "cells": [
  {
   "cell_type": "markdown",
   "metadata": {},
   "source": [
    "# Perth Machine Learning Group Poem Generator\n",
    "\n",
    "## Introduction\n",
    "\n",
    "The following code uses GRU to generate poems. It reads through a corpus of poems, and learns sequences of characters, including line breaks and titles.\n",
    "\n",
    "In short, it observes many sequence of characters, and infers the character that should come next. For instance, it guesses that after 'The cat eat' should come the letter 's'.\n",
    "\n",
    "Further details will be given with the code.\n",
    "\n",
    "## The code\n",
    "\n",
    "### Data exploration"
   ]
  },
  {
   "cell_type": "code",
   "execution_count": 2,
   "metadata": {},
   "outputs": [],
   "source": [
    "import tensorflow as tf  # version 1.9 or above\n",
    "tf.enable_eager_execution()  # Execution of code as it runs in the notebook. Normally, TensorFlow looks up the whole code before execution for efficiency.\n",
    "\n",
    "import numpy as np\n",
    "import re\n",
    "import random\n",
    "import unidecode\n",
    "import time"
   ]
  },
  {
   "cell_type": "code",
   "execution_count": 3,
   "metadata": {},
   "outputs": [],
   "source": [
    "path_to_file = 'poem_corpus.txt'"
   ]
  },
  {
   "cell_type": "code",
   "execution_count": 5,
   "metadata": {},
   "outputs": [
    {
     "name": "stdout",
     "output_type": "stream",
     "text": [
      "          CHRISTMAS NIGHT.\n",
      "\n",
      "\n",
      "    Be peace on earth, good will to men;\n",
      "      And let this now our carol be:\n",
      "      If on the land, or on the sea,\n",
      "    We still will sing the glad refrain;\n",
      "      And in the closing light of day\n",
      "      Good words of peace and cheer will say.\n",
      "\n",
      "    The Babe that in the manger born\n",
      "      Has risen high above the star,\n",
      "      To judge in peace, or judge in war,\n",
      "    To judge at night or judge at morn.\n",
      "      The star that told us of his birth\n",
      "      Has given us joy and lastin\n"
     ]
    }
   ],
   "source": [
    "text = unidecode.unidecode(open(path_to_file).read())\n",
    "print(text[:500])"
   ]
  },
  {
   "cell_type": "markdown",
   "metadata": {},
   "source": [
    "### Dataset creation"
   ]
  },
  {
   "cell_type": "code",
   "execution_count": 6,
   "metadata": {},
   "outputs": [],
   "source": [
    "unique = sorted(set(text))  # unique contains all the unique characters in the corpus\n",
    "\n",
    "char2idx = {u:i for i, u in enumerate(unique)}  # maps characters to indexes\n",
    "idx2char = {i:u for i, u in enumerate(unique)}  # maps indexes to characters"
   ]
  },
  {
   "cell_type": "code",
   "execution_count": 7,
   "metadata": {},
   "outputs": [],
   "source": [
    "max_length = 100  # Maximum length sentence we want per input in the network\n",
    "vocab_size = len(unique)\n",
    "embedding_dim = 256  # number of 'meaningful' features to learn. Ex: ['queen', 'king', 'man', 'woman'] has a least 2 embedding dimension: royalty and gender.\n",
    "units = 1024  # In keras: number of output of a sequence. In short it rem\n",
    "BATCH_SIZE = 64\n",
    "BUFFER_SIZE = 10000"
   ]
  },
  {
   "cell_type": "code",
   "execution_count": 8,
   "metadata": {},
   "outputs": [],
   "source": [
    "input_text = []\n",
    "target_text = []\n",
    "\n",
    "for f in range(0, len(text) - max_length, max_length):\n",
    "    inps = text[f : f + max_length]\n",
    "    targ = text[f + 1 : f + 1 + max_length]\n",
    "    input_text.append([char2idx[i] for i in inps])\n",
    "    target_text.append([char2idx[t] for t in targ])"
   ]
  },
  {
   "cell_type": "code",
   "execution_count": 13,
   "metadata": {},
   "outputs": [
    {
     "name": "stdout",
     "output_type": "stream",
     "text": [
      "WARNING:tensorflow:From <ipython-input-13-3bbc2611a7c8>:2: batch_and_drop_remainder (from tensorflow.contrib.data.python.ops.batching) is deprecated and will be removed in a future version.\n",
      "Instructions for updating:\n",
      "Use `tf.data.Dataset.batch(..., drop_remainder=True)`.\n"
     ]
    }
   ],
   "source": [
    "dataset = tf.data.Dataset.from_tensor_slices((input_text, target_text)).shuffle(BUFFER_SIZE)\n",
    "dataset = dataset.apply(tf.contrib.data.batch_and_drop_remainder(BATCH_SIZE))"
   ]
  },
  {
   "cell_type": "markdown",
   "metadata": {},
   "source": [
    "### Explaination\n",
    "\n",
    "In fact, the algorithm does not learn which characters comes next. It analyzes sequences of characters as inputs (ex: 'abcd'), and predicts sequences as outputs (ex: 'bcde').\n",
    "\n",
    "Why?\n",
    "\n",
    "During the training phase, it learns more that just the next character. It updates weights for each characters from the input sequence to the output sequence.\n",
    "\n",
    "> Consider the sequences 'abcd', 'bcde', 'cdef', 'defg', the letter \"d\" is given different weights that depend on the previous sequences\n",
    "\n",
    "The use of these updates helps predicting better the next sequences and so on. So it learns the next character but also all the weights \n",
    "\n",
    "The next chunk of code is optional."
   ]
  },
  {
   "cell_type": "code",
   "execution_count": 20,
   "metadata": {},
   "outputs": [
    {
     "name": "stdout",
     "output_type": "stream",
     "text": [
      "Given the following sequence: \n",
      "\n",
      "\n",
      "ew over the land,\n",
      "      And the country was wild with glee;\n",
      "    And she stilled the wave in the stor\n",
      "\n",
      "\n",
      "\n",
      "the network learns that a correct continuation is: \n",
      "\n",
      "w over the land,\n",
      "      And the country was wild with glee;\n",
      "    And she stilled the wave in the storm\n"
     ]
    }
   ],
   "source": [
    "# example of input:\n",
    "print('Given the following sequence: \\n\\n')\n",
    "print(''.join(idx2char[input_text[14][i]] for i in range(len(target_text[0]))))\n",
    "print('\\n\\n')\n",
    "print('the network has to learn that a correct continuation is: \\n')\n",
    "# example of output the algorithm has to learn\n",
    "print(''.join(idx2char[target_text[14][i]] for i in range(len(input_text[0]))))"
   ]
  },
  {
   "cell_type": "markdown",
   "metadata": {},
   "source": [
    "### Model"
   ]
  },
  {
   "cell_type": "code",
   "execution_count": 14,
   "metadata": {},
   "outputs": [],
   "source": [
    "class Model(tf.keras.Model):\n",
    "  def __init__(self, vocab_size, embedding_dim, units, batch_size):\n",
    "    super(Model, self).__init__()\n",
    "    self.units = units\n",
    "    self.batch_sz = batch_size\n",
    "    self.embedding = tf.keras.layers.Embedding(vocab_size, embedding_dim)\n",
    "    if tf.test.is_gpu_available():\n",
    "      self.gru = tf.keras.layers.CuDNNGRU(self.units, \n",
    "                                          return_sequences=True, \n",
    "                                          return_state=True, \n",
    "                                          recurrent_initializer='glorot_uniform')\n",
    "    else:\n",
    "      self.gru = tf.keras.layers.GRU(self.units, \n",
    "                                     return_sequences=True, \n",
    "                                     return_state=True, \n",
    "                                     recurrent_activation='sigmoid', \n",
    "                                     recurrent_initializer='glorot_uniform')\n",
    "    self.fc = tf.keras.layers.Dense(vocab_size)\n",
    "        \n",
    "  def call(self, x, hidden):\n",
    "    x = self.embedding(x)\n",
    "    output, states = self.gru(x, initial_state=hidden)\n",
    "    output = tf.reshape(output, (-1, output.shape[2]))\n",
    "    x = self.fc(output)\n",
    "    return x, states"
   ]
  },
  {
   "cell_type": "code",
   "execution_count": 15,
   "metadata": {},
   "outputs": [],
   "source": [
    "model = Model(vocab_size, embedding_dim, units, BATCH_SIZE)"
   ]
  },
  {
   "cell_type": "code",
   "execution_count": 16,
   "metadata": {},
   "outputs": [],
   "source": [
    "optimizer = tf.train.AdamOptimizer()"
   ]
  },
  {
   "cell_type": "code",
   "execution_count": 17,
   "metadata": {},
   "outputs": [],
   "source": [
    "def loss_function(real, preds):\n",
    "    return tf.losses.sparse_softmax_cross_entropy(labels=real, logits=preds)"
   ]
  },
  {
   "cell_type": "markdown",
   "metadata": {},
   "source": [
    "### Training"
   ]
  },
  {
   "cell_type": "code",
   "execution_count": null,
   "metadata": {},
   "outputs": [
    {
     "name": "stdout",
     "output_type": "stream",
     "text": [
      "Epoch 1 Batch 0 Loss 4.5975\n",
      "Epoch 1 Batch 100 Loss 2.1609\n",
      "Epoch 1 Batch 200 Loss 1.9387\n",
      "Epoch 1 Loss 1.8163\n",
      "Time taken for 1 epoch 1007.0127582550049 sec\n",
      "\n",
      "Epoch 2 Batch 0 Loss 1.7427\n",
      "Epoch 2 Batch 100 Loss 1.7149\n",
      "Epoch 2 Batch 200 Loss 1.6851\n",
      "Epoch 2 Loss 1.6786\n",
      "Time taken for 1 epoch 1009.5401530265808 sec\n",
      "\n",
      "Epoch 3 Batch 0 Loss 1.5864\n",
      "Epoch 3 Batch 100 Loss 1.5735\n",
      "Epoch 3 Batch 200 Loss 1.5432\n",
      "Epoch 3 Loss 1.5330\n",
      "Time taken for 1 epoch 1008.4457356929779 sec\n",
      "\n",
      "Epoch 4 Batch 0 Loss 1.4756\n",
      "Epoch 4 Batch 100 Loss 1.5105\n",
      "Epoch 4 Batch 200 Loss 1.4949\n",
      "Epoch 4 Loss 1.4980\n",
      "Time taken for 1 epoch 1010.7342929840088 sec\n",
      "\n",
      "Epoch 5 Batch 0 Loss 1.3859\n",
      "Epoch 5 Batch 100 Loss 1.4656\n",
      "Epoch 5 Batch 200 Loss 1.4051\n",
      "Epoch 5 Loss 1.4314\n",
      "Time taken for 1 epoch 1012.4246871471405 sec\n",
      "\n",
      "Epoch 6 Batch 0 Loss 1.3024\n",
      "Epoch 6 Batch 100 Loss 1.3982\n",
      "Epoch 6 Batch 200 Loss 1.3920\n",
      "Epoch 6 Loss 1.4050\n",
      "Time taken for 1 epoch 1009.992424249649 sec\n",
      "\n",
      "Epoch 7 Batch 0 Loss 1.2550\n",
      "Epoch 7 Batch 100 Loss 1.3588\n",
      "Epoch 7 Batch 200 Loss 1.3480\n",
      "Epoch 7 Loss 1.3742\n",
      "Time taken for 1 epoch 1009.2752959728241 sec\n",
      "\n",
      "Epoch 8 Batch 0 Loss 1.1944\n",
      "Epoch 8 Batch 100 Loss 1.3088\n",
      "Epoch 8 Batch 200 Loss 1.3028\n",
      "Epoch 8 Loss 1.3164\n",
      "Time taken for 1 epoch 1007.6811842918396 sec\n",
      "\n",
      "Epoch 9 Batch 0 Loss 1.1755\n",
      "Epoch 9 Batch 100 Loss 1.2597\n",
      "Epoch 9 Batch 200 Loss 1.2338\n",
      "Epoch 9 Loss 1.2662\n",
      "Time taken for 1 epoch 1010.1400344371796 sec\n",
      "\n",
      "Epoch 10 Batch 0 Loss 1.1144\n",
      "Epoch 10 Batch 100 Loss 1.2354\n",
      "Epoch 10 Batch 200 Loss 1.2604\n",
      "Epoch 10 Loss 1.1994\n",
      "Time taken for 1 epoch 1014.5306894779205 sec\n",
      "\n",
      "Epoch 11 Batch 0 Loss 1.0661\n",
      "Epoch 11 Batch 100 Loss 1.1259\n",
      "Epoch 11 Batch 200 Loss 1.2032\n",
      "Epoch 11 Loss 1.2087\n",
      "Time taken for 1 epoch 1015.837060213089 sec\n",
      "\n",
      "Epoch 12 Batch 0 Loss 1.0235\n",
      "Epoch 12 Batch 100 Loss 1.0992\n",
      "Epoch 12 Batch 200 Loss 1.1357\n",
      "Epoch 12 Loss 1.1567\n",
      "Time taken for 1 epoch 1012.8789830207825 sec\n",
      "\n",
      "Epoch 13 Batch 0 Loss 0.9910\n",
      "Epoch 13 Batch 100 Loss 1.1073\n",
      "Epoch 13 Batch 200 Loss 1.1040\n",
      "Epoch 13 Loss 1.1534\n",
      "Time taken for 1 epoch 1013.3924562931061 sec\n",
      "\n",
      "Epoch 14 Batch 0 Loss 0.9614\n",
      "Epoch 14 Batch 100 Loss 1.0112\n",
      "Epoch 14 Batch 200 Loss 1.1047\n",
      "Epoch 14 Loss 1.0997\n",
      "Time taken for 1 epoch 1010.0549929141998 sec\n",
      "\n",
      "Epoch 15 Batch 0 Loss 0.8986\n",
      "Epoch 15 Batch 100 Loss 1.0099\n",
      "Epoch 15 Batch 200 Loss 1.0629\n",
      "Epoch 15 Loss 1.0550\n",
      "Time taken for 1 epoch 1010.1194486618042 sec\n",
      "\n",
      "Epoch 16 Batch 0 Loss 0.8742\n",
      "Epoch 16 Batch 100 Loss 0.9966\n",
      "Epoch 16 Batch 200 Loss 1.0665\n",
      "Epoch 16 Loss 1.0293\n",
      "Time taken for 1 epoch 1010.7748596668243 sec\n",
      "\n",
      "Epoch 17 Batch 0 Loss 0.8696\n",
      "Epoch 17 Batch 100 Loss 0.9391\n",
      "Epoch 17 Batch 200 Loss 1.0458\n",
      "Epoch 17 Loss 0.9827\n",
      "Time taken for 1 epoch 1009.4000136852264 sec\n",
      "\n",
      "Epoch 18 Batch 0 Loss 0.8229\n",
      "Epoch 18 Batch 100 Loss 0.9418\n",
      "Epoch 18 Batch 200 Loss 0.9846\n",
      "Epoch 18 Loss 0.9915\n",
      "Time taken for 1 epoch 1018.6969776153564 sec\n",
      "\n",
      "Epoch 19 Batch 0 Loss 0.8420\n",
      "Epoch 19 Batch 100 Loss 0.9518\n",
      "Epoch 19 Batch 200 Loss 0.9679\n",
      "Epoch 19 Loss 0.9826\n",
      "Time taken for 1 epoch 1015.187970161438 sec\n",
      "\n",
      "Epoch 20 Batch 0 Loss 0.8031\n",
      "Epoch 20 Batch 100 Loss 0.9082\n",
      "Epoch 20 Batch 200 Loss 0.9899\n",
      "Epoch 20 Loss 0.9728\n",
      "Time taken for 1 epoch 1015.405241727829 sec\n",
      "\n",
      "Epoch 21 Batch 0 Loss 0.8155\n",
      "Epoch 21 Batch 100 Loss 0.8931\n",
      "Epoch 21 Batch 200 Loss 0.9593\n",
      "Epoch 21 Loss 0.9730\n",
      "Time taken for 1 epoch 1014.1239879131317 sec\n",
      "\n",
      "Epoch 22 Batch 0 Loss 0.7719\n",
      "Epoch 22 Batch 100 Loss 0.9102\n",
      "Epoch 22 Batch 200 Loss 0.9354\n",
      "Epoch 22 Loss 0.9565\n",
      "Time taken for 1 epoch 1012.7351298332214 sec\n",
      "\n",
      "Epoch 23 Batch 0 Loss 0.7540\n",
      "Epoch 23 Batch 100 Loss 0.8891\n",
      "Epoch 23 Batch 200 Loss 0.9431\n",
      "Epoch 23 Loss 0.9452\n",
      "Time taken for 1 epoch 1015.2740514278412 sec\n",
      "\n",
      "Epoch 24 Batch 0 Loss 0.7557\n",
      "Epoch 24 Batch 100 Loss 0.8679\n",
      "Epoch 24 Batch 200 Loss 0.9325\n",
      "Epoch 24 Loss 0.9061\n",
      "Time taken for 1 epoch 1013.387583732605 sec\n",
      "\n",
      "Epoch 25 Batch 0 Loss 0.7418\n",
      "Epoch 25 Batch 100 Loss 0.8140\n",
      "Epoch 25 Batch 200 Loss 0.8961\n",
      "Epoch 25 Loss 0.9026\n",
      "Time taken for 1 epoch 1012.0506448745728 sec\n",
      "\n",
      "Epoch 26 Batch 0 Loss 0.7547\n",
      "Epoch 26 Batch 100 Loss 0.8344\n"
     ]
    }
   ],
   "source": [
    "n_epochs = 30\n",
    "\n",
    "for epoch in range(n_epochs):\n",
    "    start = time.time()\n",
    "    hidden = model.reset_states()  # initializes the hidden state at the start of every epoch\n",
    "    \n",
    "    for (batch, (inp, target)) in enumerate(dataset):\n",
    "          with tf.GradientTape() as tape:\n",
    "              predictions, hidden = model(inp, hidden)  # feeds the hidden state back into the model\n",
    "              target = tf.reshape(target, (-1, ))  # reshapes for the loss function\n",
    "              loss = loss_function(target, predictions)\n",
    "              \n",
    "          grads = tape.gradient(loss, model.variables)\n",
    "          optimizer.apply_gradients(zip(grads, model.variables), global_step=tf.train.get_or_create_global_step())\n",
    "\n",
    "          if batch % 100 == 0:\n",
    "              print ('Epoch {} Batch {} Loss {:.4f}'.format(epoch + 1, batch, loss))\n",
    "    \n",
    "    print ('Epoch {} Loss {:.4f}'.format(epoch + 1, loss))\n",
    "    print('Time taken for 1 epoch {} sec\\n'.format(time.time() - start))"
   ]
  },
  {
   "cell_type": "markdown",
   "metadata": {},
   "source": [
    " ...\n",
    " \n",
    "The model was trained on Paperspace. 5 epochs are missing due to an average Internet connecton.\n",
    "\n",
    "Anyway, it is enough to generate some text with the model.\n",
    "\n",
    "### Text generation"
   ]
  },
  {
   "cell_type": "code",
   "execution_count": 38,
   "metadata": {},
   "outputs": [
    {
     "name": "stdout",
     "output_type": "stream",
     "text": [
      "The childhood rose that we may do,\n",
      "And now the country seat her shall he died,\n",
      "  And her shadow of regret?\n",
      "\n",
      "If you can dress your head and stone be forget--\n",
      "  That were coming home from the corner of her eye.\n",
      "\n",
      "He did one that ever one to the summer of the rain!\n",
      "\n",
      "She was wanting from the pine,\n",
      "  And the song of his lower lay,\n",
      "While I am sad and sent the truest,\n",
      "  And one clothe lads that waits\n",
      "  Of the black men doth clouds the stars,\n",
      "      And the stars have broken the stars\n",
      "      Stood on the brook, the bridge is passing through the starry skies.\n",
      "\n",
      "    When the sun was clear, and the thing to be true\n",
      "    A blaze in the stream of the steed,\n",
      "      And the stars have broken the stairs,\n",
      "    And the clearing and the long bright morning stair,\n",
      "    And one that makes the dark bells they seemed to say:\n",
      "     \"But one song of the crowd.\n",
      "            The stars come and the straw,\n",
      "      And cold and still their welcome home.\n",
      "\n",
      "    All the cold work that has lured the sea,\n",
      "    And the clock stood calm and sti\n"
     ]
    }
   ],
   "source": [
    "num_generate = 1000  # number of characters to generate\n",
    "start_string = 'The child'  # beginning of the generated text. TODO: try start_string = ' '\n",
    "\n",
    "input_eval = [char2idx[s] for s in start_string]  # converts start_string to numbers the model understands\n",
    "input_eval = tf.expand_dims(input_eval, 0)  # \n",
    "\n",
    "text_generated = ''\n",
    "\n",
    "temperature = 0.97  # the greater, the closer to an observation in the corpus\n",
    "\n",
    "hidden = [tf.zeros((1, units))]\n",
    "for i in range(num_generate):\n",
    "    predictions, hidden = model(input_eval, hidden)  # predictions holds the probabily for each character to be most adequate continuation\n",
    "\n",
    "    predictions = predictions / temperature  # alters characters' probabilities to be picked (but keeps the order)\n",
    "    predicted_id = tf.multinomial(tf.exp(predictions), num_samples=1)[0][0].numpy()  # picks the next character for the generated text\n",
    "    \n",
    "    input_eval = tf.expand_dims([predicted_id], 0)\n",
    "    text_generated += idx2char[predicted_id]  # appends\n",
    "\n",
    "print (start_string + text_generated)"
   ]
  },
  {
   "cell_type": "markdown",
   "metadata": {},
   "source": [
    "## Conclusion\n",
    "\n",
    "That's promising:\n",
    "* It spells words correctly\n",
    "* There is some structure (line breaks).\n",
    "* Found a punctation rule\n",
    "\n",
    "Easy-to-fix issue: indents. The corpus itself is inconsitent for that regard. The fact that the model mimics the indents is in fact a good news.\n",
    "\n",
    "Harder-to-fix issue: Sentences make little sense. Maybe further training will be enough. Also, playing with hyperparameters will help."
   ]
  }
 ],
 "metadata": {
  "kernelspec": {
   "display_name": "Python 3",
   "language": "python",
   "name": "python3"
  },
  "language_info": {
   "codemirror_mode": {
    "name": "ipython",
    "version": 3
   },
   "file_extension": ".py",
   "mimetype": "text/x-python",
   "name": "python",
   "nbconvert_exporter": "python",
   "pygments_lexer": "ipython3",
   "version": "3.6.3"
  }
 },
 "nbformat": 4,
 "nbformat_minor": 2
}
